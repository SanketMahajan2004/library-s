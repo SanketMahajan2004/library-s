{
 "cells": [
  {
   "cell_type": "markdown",
   "id": "c2ddb98d",
   "metadata": {},
   "source": [
    "# Copy vs View"
   ]
  },
  {
   "cell_type": "code",
   "execution_count": 9,
   "id": "45ea555c",
   "metadata": {},
   "outputs": [
    {
     "name": "stdout",
     "output_type": "stream",
     "text": [
      "var : [ 1 10  3  4  5]\n",
      "copy : [1 2 3 4 5]\n"
     ]
    }
   ],
   "source": [
    "import numpy as np\n",
    "a = np.array([1, 2, 3, 4, 5])\n",
    "co = a.copy()\n",
    "a[1]=10\n",
    "print(\"var :\",a)\n",
    "print(\"copy :\",co)"
   ]
  },
  {
   "cell_type": "code",
   "execution_count": 7,
   "id": "8ddd94c5",
   "metadata": {},
   "outputs": [
    {
     "name": "stdout",
     "output_type": "stream",
     "text": [
      "x : [ 2 20  4  5  6]\n",
      "view : [ 2 20  4  5  6]\n"
     ]
    }
   ],
   "source": [
    "x = np.array([2, 3, 4, 5, 6])\n",
    "vi = x.view()\n",
    "x[1]=20\n",
    "print(\"x :\",x)\n",
    "print(\"view :\",vi)"
   ]
  },
  {
   "cell_type": "markdown",
   "id": "1ca33b74",
   "metadata": {},
   "source": [
    "# Join Array"
   ]
  },
  {
   "cell_type": "code",
   "execution_count": 10,
   "id": "feb99f31",
   "metadata": {},
   "outputs": [
    {
     "name": "stdout",
     "output_type": "stream",
     "text": [
      "[1 2 3 4 9 8 8 6]\n"
     ]
    }
   ],
   "source": [
    "import numpy as np\n",
    "var= np.array([1,2,3,4])\n",
    "var1 = np.array([9,8,8,6])\n",
    "ar = np.concatenate((var,var1))\n",
    "print(ar)"
   ]
  },
  {
   "cell_type": "code",
   "execution_count": 14,
   "id": "bdb47bd1",
   "metadata": {},
   "outputs": [
    {
     "name": "stdout",
     "output_type": "stream",
     "text": [
      "[[1 2]\n",
      " [3 4]]\n",
      "\n",
      "[[9 8]\n",
      " [8 6]]\n",
      "\n",
      "[[1 2 9 8]\n",
      " [3 4 8 6]]\n",
      "\n",
      "[[1 2]\n",
      " [3 4]\n",
      " [9 8]\n",
      " [8 6]]\n"
     ]
    }
   ],
   "source": [
    "vr= np.array([[1,2],[3,4]])\n",
    "vr1 = np.array([[9,8],[8,6]])\n",
    "ar_new = np.concatenate((vr,vr1),axis=1)\n",
    "ar_n = np.concatenate((vr,vr1),axis=0)\n",
    "print(vr)\n",
    "print()\n",
    "print(vr1)\n",
    "print()\n",
    "print(ar_new)\n",
    "print()\n",
    "print(ar_n)"
   ]
  },
  {
   "cell_type": "code",
   "execution_count": 15,
   "id": "dd313017",
   "metadata": {},
   "outputs": [
    {
     "name": "stdout",
     "output_type": "stream",
     "text": [
      "[[1 2 3 4]\n",
      " [9 8 8 6]]\n"
     ]
    }
   ],
   "source": [
    "var_1= np.array([1,2,3,4])\n",
    "var_2 = np.array([9,8,8,6])\n",
    "ar = np.stack((var,var1))\n",
    "print(ar)"
   ]
  },
  {
   "cell_type": "code",
   "execution_count": 17,
   "id": "36c7e7a9",
   "metadata": {},
   "outputs": [
    {
     "name": "stdout",
     "output_type": "stream",
     "text": [
      "[1 2 3 4 9 8 8 6]\n"
     ]
    }
   ],
   "source": [
    "var_1= np.array([1,2,3,4])\n",
    "var_2 = np.array([9,8,8,6])\n",
    "ar = np.hstack((var,var1))\n",
    "print(ar)"
   ]
  },
  {
   "cell_type": "code",
   "execution_count": 18,
   "id": "ef845a39",
   "metadata": {},
   "outputs": [
    {
     "name": "stdout",
     "output_type": "stream",
     "text": [
      "[[1 2 3 4]\n",
      " [9 8 8 6]]\n"
     ]
    }
   ],
   "source": [
    "var_1= np.array([1,2,3,4])\n",
    "var_2 = np.array([9,8,8,6])\n",
    "ar = np.vstack((var,var1))\n",
    "print(ar)"
   ]
  },
  {
   "cell_type": "code",
   "execution_count": 21,
   "id": "c947e2a5",
   "metadata": {},
   "outputs": [
    {
     "name": "stdout",
     "output_type": "stream",
     "text": [
      "[[1 2 3 4]\n",
      " [9 8 8 6]]\n",
      "\n",
      "[1 2 3 4 9 8 8 6]\n",
      "\n",
      "[[1 2 3 4]\n",
      " [9 8 8 6]]\n",
      "\n",
      "[[[1 9]\n",
      "  [2 8]\n",
      "  [3 8]\n",
      "  [4 6]]]\n"
     ]
    }
   ],
   "source": [
    "var_1= np.array([1,2,3,4])\n",
    "var_2 = np.array([9,8,8,6])\n",
    "ar = np.stack((var,var1), axis = 0)\n",
    "ar1 = np.hstack((var,var1)) #row\n",
    "ar2 = np.vstack((var,var1)) #coloums\n",
    "ar3 = np.dstack((var,var1)) #height\n",
    "print(ar)\n",
    "print()\n",
    "print(ar1)\n",
    "print()\n",
    "print(ar2)\n",
    "print()\n",
    "print(ar3)"
   ]
  },
  {
   "cell_type": "markdown",
   "id": "35f5c4f8",
   "metadata": {},
   "source": [
    "# split array"
   ]
  },
  {
   "cell_type": "code",
   "execution_count": 25,
   "id": "f87586d0",
   "metadata": {},
   "outputs": [
    {
     "name": "stdout",
     "output_type": "stream",
     "text": [
      "[1 2 3 4 5 6]\n",
      "\n",
      "[array([1, 2]), array([3, 4]), array([5, 6])]\n",
      "<class 'list'>\n",
      "[3 4]\n"
     ]
    }
   ],
   "source": [
    "var3 = np.array([1,2,3,4,5,6])\n",
    "print(var3)\n",
    "\n",
    "ar3 = np.array_split(var3, 3)\n",
    "print()\n",
    "print(ar3)\n",
    "print(type(ar3))\n",
    "print(ar3[1])"
   ]
  },
  {
   "cell_type": "code",
   "execution_count": 27,
   "id": "16a21073",
   "metadata": {},
   "outputs": [
    {
     "name": "stdout",
     "output_type": "stream",
     "text": [
      "[1 2 3 4 5 6]\n",
      "\n",
      "[array([[1, 2]]), array([[3, 4]]), array([[5, 6]])]\n",
      "\n",
      "[array([[1],\n",
      "       [3],\n",
      "       [5]]), array([[2],\n",
      "       [4],\n",
      "       [6]]), array([], shape=(3, 0), dtype=int32)]\n",
      "<class 'list'>\n"
     ]
    }
   ],
   "source": [
    "var4 = np.array([[1,2],[3,4],[5,6]])\n",
    "print(var3)\n",
    "\n",
    "ar4 = np.array_split(var4, 3)\n",
    "ar5 = np.array_split(var4, 3,axis=1)\n",
    "print()\n",
    "print(ar4)\n",
    "print()\n",
    "print(ar5)\n",
    "print(type(ar4))\n"
   ]
  },
  {
   "cell_type": "markdown",
   "id": "d1998f94",
   "metadata": {},
   "source": [
    "# search"
   ]
  },
  {
   "cell_type": "code",
   "execution_count": 3,
   "id": "11a254c7",
   "metadata": {},
   "outputs": [
    {
     "name": "stdout",
     "output_type": "stream",
     "text": [
      "(array([1, 3, 6], dtype=int64),)\n"
     ]
    }
   ],
   "source": [
    "import numpy as np\n",
    "var5 = np.array([1,2,3,2,5,6,2,8,9])\n",
    "x = np.where(var5 == 2)\n",
    "print(x)"
   ]
  },
  {
   "cell_type": "code",
   "execution_count": 4,
   "id": "c67f5295",
   "metadata": {},
   "outputs": [
    {
     "name": "stdout",
     "output_type": "stream",
     "text": [
      "4\n"
     ]
    }
   ],
   "source": [
    "var6 = np.array([1,2,3,4,6,7,8])\n",
    "x1 = np.searchsorted(var6 , 5)\n",
    "print(x1)"
   ]
  },
  {
   "cell_type": "markdown",
   "id": "77dcc797",
   "metadata": {},
   "source": [
    "# Sort"
   ]
  },
  {
   "cell_type": "code",
   "execution_count": 6,
   "id": "1d39eccd",
   "metadata": {},
   "outputs": [
    {
     "name": "stdout",
     "output_type": "stream",
     "text": [
      "[ 1  2  4  6  8  9 10]\n"
     ]
    }
   ],
   "source": [
    "var7 = np.array([2,1,10,4,6,9,8])\n",
    "x2 = np.sort(var7)\n",
    "print(x2)"
   ]
  },
  {
   "cell_type": "code",
   "execution_count": 7,
   "id": "861ce195",
   "metadata": {},
   "outputs": [
    {
     "name": "stdout",
     "output_type": "stream",
     "text": [
      "['b' 'c' 'd' 'e' 'f']\n"
     ]
    }
   ],
   "source": [
    "var8 = np.array(['e','d','c','f','b'])\n",
    "x3 = np.sort(var8)\n",
    "print(x3)"
   ]
  },
  {
   "cell_type": "markdown",
   "id": "42d4f5d9",
   "metadata": {},
   "source": [
    "# Filter"
   ]
  },
  {
   "cell_type": "code",
   "execution_count": 10,
   "id": "d1f56ff6",
   "metadata": {},
   "outputs": [
    {
     "name": "stdout",
     "output_type": "stream",
     "text": [
      "['a' 'f']\n"
     ]
    }
   ],
   "source": [
    "var9 = np.array([\"a\",\"s\",\"d\",\"f\"])\n",
    "f = [True,False,False,True]\n",
    "new_ar = var9[f]\n",
    "print(new_ar)"
   ]
  },
  {
   "cell_type": "code",
   "execution_count": 11,
   "id": "42486e73",
   "metadata": {},
   "outputs": [
    {
     "name": "stdout",
     "output_type": "stream",
     "text": [
      "[1 2 4 3 5]\n"
     ]
    }
   ],
   "source": [
    "var10 = np.array([1,2,3,4,5])\n",
    "np.random.shuffle(var10)\n",
    "print(var10)"
   ]
  },
  {
   "cell_type": "code",
   "execution_count": 16,
   "id": "4cefed77",
   "metadata": {},
   "outputs": [
    {
     "name": "stdout",
     "output_type": "stream",
     "text": [
      "(array([1, 2, 3, 4, 5, 6, 7]), array([0, 1, 2, 3, 4, 7, 9], dtype=int64), array([1, 3, 1, 1, 2, 1, 1], dtype=int64))\n"
     ]
    }
   ],
   "source": [
    "var11 =  np.array([1,2,3,4,5,2,5,6,2,7])\n",
    "x4 = np.unique(var11,return_index=True,return_counts=True)\n",
    "print(x4)"
   ]
  },
  {
   "cell_type": "code",
   "execution_count": 17,
   "id": "9bb27902",
   "metadata": {},
   "outputs": [
    {
     "name": "stdout",
     "output_type": "stream",
     "text": [
      "[[1 2 3]\n",
      " [4 5 6]]\n"
     ]
    }
   ],
   "source": [
    "var12 = np.array([1,2,3,4,5,6])\n",
    "y = np.resize(var12,(2,3))\n",
    "print(y)"
   ]
  },
  {
   "cell_type": "code",
   "execution_count": 20,
   "id": "d6bf3566",
   "metadata": {},
   "outputs": [
    {
     "name": "stdout",
     "output_type": "stream",
     "text": [
      "[[1 2]\n",
      " [3 4]\n",
      " [5 6]]\n",
      "Flatten : [1 2 3 4 5 6]\n",
      "Ravel : [1 2 3 4 5 6]\n"
     ]
    }
   ],
   "source": [
    "var13 = np.array([1,2,3,4,5,6])\n",
    "y = np.resize(var13,(3,2))\n",
    "print(y)\n",
    "print(\"Flatten :\",y.flatten())\n",
    "print(\"Ravel :\",np.ravel(y,order=\"A\"))"
   ]
  },
  {
   "cell_type": "markdown",
   "id": "d16a56c7",
   "metadata": {},
   "source": [
    "# Insert"
   ]
  },
  {
   "cell_type": "code",
   "execution_count": 27,
   "id": "1e89587b",
   "metadata": {},
   "outputs": [
    {
     "name": "stdout",
     "output_type": "stream",
     "text": [
      "[1 2 3 4 5]\n",
      "[1.  2.  3.  4.  5.  6.5]\n"
     ]
    }
   ],
   "source": [
    "var14  = np.array([1,2,3,4,5])\n",
    "print(var14)\n",
    "#v = np.insert(var14,2,6)\n",
    "a = np.append(var14,6.5)\n",
    "print(a)"
   ]
  },
  {
   "cell_type": "code",
   "execution_count": 28,
   "id": "f79537e1",
   "metadata": {},
   "outputs": [
    {
     "name": "stdout",
     "output_type": "stream",
     "text": [
      "[[1 2 3]\n",
      " [1 2 3]]\n",
      "[[ 1  2  3]\n",
      " [ 1  2  3]\n",
      " [45 44 23]]\n"
     ]
    }
   ],
   "source": [
    "var15 = np.array([[1,2,3],[1,2,3]])\n",
    "print(var15)\n",
    "#v1 = np.insert(var15,1,6,axis = 0)\n",
    "b = np.append(var15,[[45,44,23]],axis=0)\n",
    "print(b)"
   ]
  },
  {
   "cell_type": "markdown",
   "id": "0c96c24c",
   "metadata": {},
   "source": [
    "# Delete"
   ]
  },
  {
   "cell_type": "code",
   "execution_count": 30,
   "id": "ff9cdbf5",
   "metadata": {},
   "outputs": [
    {
     "name": "stdout",
     "output_type": "stream",
     "text": [
      "[1 2 4 5]\n"
     ]
    }
   ],
   "source": [
    "var16 =np.array([1,2,3,4,5])\n",
    "d = np.delete(var16,2)\n",
    "print(d)"
   ]
  },
  {
   "cell_type": "markdown",
   "id": "b458c3db",
   "metadata": {},
   "source": [
    "# Matrix"
   ]
  },
  {
   "cell_type": "code",
   "execution_count": 34,
   "id": "85758c0b",
   "metadata": {},
   "outputs": [
    {
     "name": "stdout",
     "output_type": "stream",
     "text": [
      "[[1 2]\n",
      " [1 2]]\n",
      "\n",
      "[[1 2]\n",
      " [1 2]]\n",
      "\n",
      "[[3 6]\n",
      " [3 6]]\n",
      "<class 'numpy.matrix'>\n"
     ]
    }
   ],
   "source": [
    "var17 = np.matrix([[1,2],[1,2]])\n",
    "var18 = np.matrix([[1,2],[1,2]])\n",
    "print(var17)\n",
    "print()\n",
    "print(var18)\n",
    "print()\n",
    "print(var17.dot(var18))\n",
    "print(type(var17))"
   ]
  },
  {
   "cell_type": "code",
   "execution_count": 40,
   "id": "a0b74ff0",
   "metadata": {},
   "outputs": [
    {
     "name": "stdout",
     "output_type": "stream",
     "text": [
      "[[1 2 3]\n",
      " [4 5 6]]\n",
      "\n",
      "[[1 4]\n",
      " [2 5]\n",
      " [3 6]]\n",
      "\n",
      "[[1 4]\n",
      " [2 5]\n",
      " [3 6]]\n",
      "\n",
      "[[1 4]\n",
      " [2 5]\n",
      " [3 6]]\n"
     ]
    }
   ],
   "source": [
    "var19 = np.matrix([[1,2,3],[4,5,6]])\n",
    "print(var19)\n",
    "print()\n",
    "print(np.transpose(var19))\n",
    "print()\n",
    "print(var19.T)\n",
    "print()\n",
    "print(np.swapaxes(var19,0,1))"
   ]
  },
  {
   "cell_type": "code",
   "execution_count": 44,
   "id": "9b216a77",
   "metadata": {},
   "outputs": [
    {
     "name": "stdout",
     "output_type": "stream",
     "text": [
      "[[1 2]\n",
      " [3 4]]\n",
      "\n",
      "[[1 3]\n",
      " [2 4]]\n"
     ]
    }
   ],
   "source": [
    "var20 = np.matrix([[1,2],[3,4]])\n",
    "print(var20)\n",
    "print()\n",
    "print(np.swapaxes(var20,0,1))\n"
   ]
  },
  {
   "cell_type": "code",
   "execution_count": 45,
   "id": "003f8a22",
   "metadata": {},
   "outputs": [
    {
     "name": "stdout",
     "output_type": "stream",
     "text": [
      "[[1 2]\n",
      " [3 4]]\n",
      "\n",
      "[[-2.   1. ]\n",
      " [ 1.5 -0.5]]\n"
     ]
    }
   ],
   "source": [
    "var21 = np.matrix([[1,2],[3,4]])\n",
    "print(var21)\n",
    "print()\n",
    "print(np.linalg.inv(var21))"
   ]
  },
  {
   "cell_type": "code",
   "execution_count": 48,
   "id": "9db19b99",
   "metadata": {},
   "outputs": [
    {
     "name": "stdout",
     "output_type": "stream",
     "text": [
      "[[1 2]\n",
      " [3 4]]\n",
      "\n",
      "[[ 7 10]\n",
      " [15 22]]\n",
      "\n",
      "[[1 0]\n",
      " [0 1]]\n",
      "\n",
      "[[ 5.5  -2.5 ]\n",
      " [-3.75  1.75]]\n"
     ]
    }
   ],
   "source": [
    "var22 = np.matrix([[1,2],[3,4]])\n",
    "print(var22)\n",
    "print()\n",
    "print(np.linalg.matrix_power(var22,2))\n",
    "print()\n",
    "print(np.linalg.matrix_power(var22,0))\n",
    "print()\n",
    "print(np.linalg.matrix_power(var22,-2))"
   ]
  },
  {
   "cell_type": "code",
   "execution_count": 52,
   "id": "0325ba6d",
   "metadata": {},
   "outputs": [
    {
     "name": "stdout",
     "output_type": "stream",
     "text": [
      "[[1 2 3]\n",
      " [3 4 3]\n",
      " [1 2 3]]\n",
      "\n",
      "0.0\n"
     ]
    }
   ],
   "source": [
    "var23 = np.matrix([[1,2,3],[3,4,3],[1,2,3]])\n",
    "print(var23)\n",
    "print()\n",
    "print(np.linalg.det(var23))"
   ]
  },
  {
   "cell_type": "code",
   "execution_count": null,
   "id": "01e639d7",
   "metadata": {},
   "outputs": [],
   "source": []
  }
 ],
 "metadata": {
  "kernelspec": {
   "display_name": "Python 3 (ipykernel)",
   "language": "python",
   "name": "python3"
  },
  "language_info": {
   "codemirror_mode": {
    "name": "ipython",
    "version": 3
   },
   "file_extension": ".py",
   "mimetype": "text/x-python",
   "name": "python",
   "nbconvert_exporter": "python",
   "pygments_lexer": "ipython3",
   "version": "3.11.4"
  }
 },
 "nbformat": 4,
 "nbformat_minor": 5
}
